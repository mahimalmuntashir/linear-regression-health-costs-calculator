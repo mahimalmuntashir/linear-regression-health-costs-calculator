{
  "cells": [
    {
      "cell_type": "code",
      "execution_count": null,
      "metadata": {
        "id": "1rRo8oNqZ-Rj"
      },
      "outputs": [],
      "source": [
        "# Import libraries. You may or may not use all of these.\n",
        "# MAHIM AL MUNTASHIR BILLAH\n",
        "# Bsc in Computer Science and Technology\n",
        "# Nantong University, China\n",
        "\n",
        "!pip install -q git+https://github.com/tensorflow/docs\n",
        "import matplotlib.pyplot as plt\n",
        "import numpy as np\n",
        "import pandas as pd\n",
        "import seaborn as sns\n",
        "\n",
        "try:\n",
        "  # %tensorflow_version only exists in Colab.\n",
        "  %tensorflow_version 2.x\n",
        "except Exception:\n",
        "  pass\n",
        "import tensorflow as tf\n",
        "\n",
        "from tensorflow import keras\n",
        "from tensorflow.keras import layers\n",
        "\n",
        "import tensorflow_docs as tfdocs\n",
        "import tensorflow_docs.plots\n",
        "import tensorflow_docs.modeling"
      ]
    },
    {
      "cell_type": "code",
      "execution_count": null,
      "metadata": {
        "id": "CiX2FI4gZtTt"
      },
      "outputs": [],
      "source": [
        "# Import data\n",
        "!wget https://cdn.freecodecamp.org/project-data/health-costs/insurance.csv\n",
        "dataset = pd.read_csv('insurance.csv')\n",
        "dataset.tail()"
      ]
    },
    {
      "cell_type": "code",
      "execution_count": null,
      "metadata": {
        "id": "LcopvQh3X-kX"
      },
      "outputs": [],
      "source": [
        "dataset.tail()"
      ]
    },
    {
      "cell_type": "code",
      "source": [
        "dataset.isna().sum()"
      ],
      "metadata": {
        "id": "wpyvIDwUgOqb"
      },
      "execution_count": null,
      "outputs": []
    },
    {
      "cell_type": "code",
      "source": [
        "dataset.describe().transpose()"
      ],
      "metadata": {
        "id": "5XV_VWyLgYNG"
      },
      "execution_count": null,
      "outputs": []
    },
    {
      "cell_type": "code",
      "source": [
        "for column in dataset:\n",
        "    if dataset[column].nunique() < 10:\n",
        "        print(column, \"=\", pd.unique(dataset[column]))\n",
        "    else:\n",
        "        print(column, \"have\", dataset[column].nunique(), \"different values.\")"
      ],
      "metadata": {
        "id": "1teYiYLdgacC"
      },
      "execution_count": null,
      "outputs": []
    },
    {
      "cell_type": "code",
      "source": [
        "dataset.dtypes"
      ],
      "metadata": {
        "id": "TsZJxulAgcU3"
      },
      "execution_count": null,
      "outputs": []
    },
    {
      "cell_type": "code",
      "source": [
        "fig, ax = plt.subplots(1,3, figsize=(18,6))\n",
        "\n",
        "i = 1\n",
        "for column in ['sex', 'region', 'smoker']:\n",
        "    plt.subplot(1, 3, i)\n",
        "    ax = sns.barplot(\n",
        "        data=dataset,\n",
        "        x=column,\n",
        "        y='expenses',\n",
        "        palette=\"crest\"\n",
        "    )\n",
        "    i += 1"
      ],
      "metadata": {
        "id": "9c0gW8PCgeVX"
      },
      "execution_count": null,
      "outputs": []
    },
    {
      "cell_type": "code",
      "source": [
        "g = sns.PairGrid(\n",
        "    dataset[['age', 'bmi', 'children' ,'expenses']]\n",
        ")\n",
        "g.map_upper(sns.scatterplot, s=15)\n",
        "g.map_diag(sns.histplot)\n",
        "g.map_lower(sns.kdeplot)"
      ],
      "metadata": {
        "id": "W8axOzK0ggQU"
      },
      "execution_count": null,
      "outputs": []
    },
    {
      "cell_type": "code",
      "source": [
        "prepared_data = dataset.copy()"
      ],
      "metadata": {
        "id": "7xJmVywfgiWg"
      },
      "execution_count": null,
      "outputs": []
    },
    {
      "cell_type": "code",
      "source": [
        "prepared_data['smoker'] = prepared_data['smoker'].map({'no': 0, 'yes': 1})\n",
        "prepared_data['sex'] = prepared_data['sex'].map({'female': 1, 'male': 0})"
      ],
      "metadata": {
        "id": "Unk7bBt5gjoQ"
      },
      "execution_count": null,
      "outputs": []
    },
    {
      "cell_type": "code",
      "source": [
        "prepared_data = pd.get_dummies(\n",
        "    prepared_data,\n",
        "    columns=['region'],\n",
        "    prefix='',\n",
        "    prefix_sep=''\n",
        ")"
      ],
      "metadata": {
        "id": "hC0gQhW1glHa"
      },
      "execution_count": null,
      "outputs": []
    },
    {
      "cell_type": "code",
      "source": [
        "prepared_data.tail()"
      ],
      "metadata": {
        "id": "R2jwTicRgnFj"
      },
      "execution_count": null,
      "outputs": []
    },
    {
      "cell_type": "code",
      "source": [
        "from sklearn.model_selection import train_test_split\n",
        "\n",
        "tts_data = prepared_data.copy()\n",
        "\n",
        "X = tts_data.drop('expenses', axis=1)\n",
        "y = tts_data.pop('expenses')\n",
        "\n",
        "train_dataset, test_dataset, train_labels, test_labels = train_test_split(\n",
        "    X, y,\n",
        "    test_size=0.2\n",
        ")\n",
        "\n",
        "test_dataset.tail()"
      ],
      "metadata": {
        "id": "ClviUI4pgo0-"
      },
      "execution_count": null,
      "outputs": []
    },
    {
      "cell_type": "code",
      "source": [
        "from tensorflow.keras.layers.experimental import preprocessing\n",
        "\n",
        "normalizer = preprocessing.Normalization()\n",
        "normalizer.adapt(np.array(train_dataset))"
      ],
      "metadata": {
        "id": "IIMTRi68grWB"
      },
      "execution_count": null,
      "outputs": []
    },
    {
      "cell_type": "code",
      "source": [
        "model = tf.keras.Sequential([\n",
        "    normalizer,\n",
        "    layers.Dense(64, activation='relu'),\n",
        "    layers.Dense(64, activation='relu'),\n",
        "    layers.Dense(units=1)\n",
        "])"
      ],
      "metadata": {
        "id": "41RgLCiJgs3y"
      },
      "execution_count": null,
      "outputs": []
    },
    {
      "cell_type": "code",
      "source": [
        "model.compile(\n",
        "    optimizer=tf.optimizers.Adam(learning_rate=0.1),\n",
        "    loss=['mean_absolute_error'], # Decides about pass the tests from website\n",
        "    metrics=['mean_absolute_error', 'mean_squared_error']  # mse is required in tests from website\n",
        ")"
      ],
      "metadata": {
        "id": "gOTNJc3dguzY"
      },
      "execution_count": null,
      "outputs": []
    },
    {
      "cell_type": "code",
      "source": [
        "history = model.fit(\n",
        "    train_dataset,\n",
        "    train_labels,\n",
        "    epochs=50,\n",
        "    verbose=0,\n",
        ")"
      ],
      "metadata": {
        "id": "eFR6JzUHgwmg"
      },
      "execution_count": null,
      "outputs": []
    },
    {
      "cell_type": "code",
      "source": [
        "model.evaluate(\n",
        "    test_dataset,\n",
        "    test_labels,\n",
        "    verbose=1\n",
        ")"
      ],
      "metadata": {
        "id": "Rd3iO5eBgx7e"
      },
      "execution_count": null,
      "outputs": []
    },
    {
      "cell_type": "code",
      "source": [
        "plt.figure(figsize=(12,4))\n",
        "plt.plot(\n",
        "    history.history['mean_absolute_error']\n",
        ")\n",
        "plt.ylabel('Mean Absolute Error')\n",
        "plt.xlabel('Epochs')\n",
        "plt.grid(True)\n",
        "plt.show()"
      ],
      "metadata": {
        "id": "XB8KgTG4gzWg"
      },
      "execution_count": null,
      "outputs": []
    },
    {
      "cell_type": "code",
      "execution_count": null,
      "metadata": {
        "id": "Xe7RXH3N3CWU"
      },
      "outputs": [],
      "source": [
        "# RUN THIS CELL TO TEST YOUR MODEL. DO NOT MODIFY CONTENTS.\n",
        "# Test model by checking how well the model generalizes using the test set.\n",
        "loss, mae, mse = model.evaluate(test_dataset, test_labels, verbose=2)\n",
        "\n",
        "print(\"Testing set Mean Abs Error: {:5.2f} expenses\".format(mae))\n",
        "\n",
        "if mae < 3500:\n",
        "  print(\"You passed the challenge. Great job!\")\n",
        "else:\n",
        "  print(\"The Mean Abs Error must be less than 3500. Keep trying.\")\n",
        "\n",
        "# Plot predictions.\n",
        "test_predictions = model.predict(test_dataset).flatten()\n",
        "\n",
        "a = plt.axes(aspect='equal')\n",
        "plt.scatter(test_labels, test_predictions)\n",
        "plt.xlabel('True values (expenses)')\n",
        "plt.ylabel('Predictions (expenses)')\n",
        "lims = [0, 50000]\n",
        "plt.xlim(lims)\n",
        "plt.ylim(lims)\n",
        "_ = plt.plot(lims,lims)\n"
      ]
    }
  ],
  "metadata": {
    "colab": {
      "name": "fcc_predict_health_costs_with_regression.ipynb",
      "private_outputs": true,
      "provenance": []
    },
    "kernelspec": {
      "display_name": "Python 3",
      "name": "python3"
    }
  },
  "nbformat": 4,
  "nbformat_minor": 0
}